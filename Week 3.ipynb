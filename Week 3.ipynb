{
 "cells": [
  {
   "cell_type": "code",
   "execution_count": 74,
   "metadata": {},
   "outputs": [
    {
     "data": {
      "text/html": [
       "<div>\n",
       "<style scoped>\n",
       "    .dataframe tbody tr th:only-of-type {\n",
       "        vertical-align: middle;\n",
       "    }\n",
       "\n",
       "    .dataframe tbody tr th {\n",
       "        vertical-align: top;\n",
       "    }\n",
       "\n",
       "    .dataframe thead th {\n",
       "        text-align: right;\n",
       "    }\n",
       "</style>\n",
       "<table border=\"1\" class=\"dataframe\">\n",
       "  <thead>\n",
       "    <tr style=\"text-align: right;\">\n",
       "      <th></th>\n",
       "      <th>1 e-mail per week</th>\n",
       "      <th>Week 1</th>\n",
       "      <th>Week 2</th>\n",
       "      <th>Week 3</th>\n",
       "      <th>Week 4</th>\n",
       "      <th>Week 5</th>\n",
       "      <th>Week 6</th>\n",
       "      <th>Week 7</th>\n",
       "      <th>Week 8</th>\n",
       "    </tr>\n",
       "  </thead>\n",
       "  <tbody>\n",
       "    <tr>\n",
       "      <th>0</th>\n",
       "      <td>Subscriber attrition for promotional e-mails</td>\n",
       "      <td>0.005</td>\n",
       "      <td>0.0078</td>\n",
       "      <td>0.0048</td>\n",
       "      <td>0.0078</td>\n",
       "      <td>0.006</td>\n",
       "      <td>0.005</td>\n",
       "      <td>0.0045</td>\n",
       "      <td>0.0043</td>\n",
       "    </tr>\n",
       "    <tr>\n",
       "      <th>1</th>\n",
       "      <td>Average revenue from subscribed customer</td>\n",
       "      <td>0.290</td>\n",
       "      <td>0.3100</td>\n",
       "      <td>0.3000</td>\n",
       "      <td>0.3200</td>\n",
       "      <td>0.290</td>\n",
       "      <td>0.260</td>\n",
       "      <td>0.2700</td>\n",
       "      <td>0.2800</td>\n",
       "    </tr>\n",
       "    <tr>\n",
       "      <th>2</th>\n",
       "      <td>Average revenue from unsubscribed customer</td>\n",
       "      <td>0.000</td>\n",
       "      <td>0.1800</td>\n",
       "      <td>0.1600</td>\n",
       "      <td>0.1300</td>\n",
       "      <td>0.130</td>\n",
       "      <td>0.130</td>\n",
       "      <td>0.1200</td>\n",
       "      <td>0.1300</td>\n",
       "    </tr>\n",
       "  </tbody>\n",
       "</table>\n",
       "</div>"
      ],
      "text/plain": [
       "                              1 e-mail per week  Week 1  Week 2  Week 3  \\\n",
       "0  Subscriber attrition for promotional e-mails   0.005  0.0078  0.0048   \n",
       "1      Average revenue from subscribed customer   0.290  0.3100  0.3000   \n",
       "2    Average revenue from unsubscribed customer   0.000  0.1800  0.1600   \n",
       "\n",
       "   Week 4  Week 5  Week 6  Week 7  Week 8  \n",
       "0  0.0078   0.006   0.005  0.0045  0.0043  \n",
       "1  0.3200   0.290   0.260  0.2700  0.2800  \n",
       "2  0.1300   0.130   0.130  0.1200  0.1300  "
      ]
     },
     "execution_count": 74,
     "metadata": {},
     "output_type": "execute_result"
    }
   ],
   "source": [
    "import pandas as pd \n",
    "import numpy as np\n",
    "import matplotlib.pyplot as plt\n",
    "\n",
    "table1 = pd.read_excel('data/pentathlon-II.xls',  nrows= 3, usecols = \"A:I\")\n",
    "table1"
   ]
  },
  {
   "cell_type": "code",
   "execution_count": 26,
   "metadata": {},
   "outputs": [
    {
     "data": {
      "text/html": [
       "<div>\n",
       "<style scoped>\n",
       "    .dataframe tbody tr th:only-of-type {\n",
       "        vertical-align: middle;\n",
       "    }\n",
       "\n",
       "    .dataframe tbody tr th {\n",
       "        vertical-align: top;\n",
       "    }\n",
       "\n",
       "    .dataframe thead th {\n",
       "        text-align: right;\n",
       "    }\n",
       "</style>\n",
       "<table border=\"1\" class=\"dataframe\">\n",
       "  <thead>\n",
       "    <tr style=\"text-align: right;\">\n",
       "      <th></th>\n",
       "      <th>2 e-mails per week</th>\n",
       "      <th>Week 1</th>\n",
       "      <th>Week 2</th>\n",
       "      <th>Week 3</th>\n",
       "      <th>Week 4</th>\n",
       "      <th>Week 5</th>\n",
       "      <th>Week 6</th>\n",
       "      <th>Week 7</th>\n",
       "      <th>Week 8</th>\n",
       "    </tr>\n",
       "  </thead>\n",
       "  <tbody>\n",
       "    <tr>\n",
       "      <th>0</th>\n",
       "      <td>Subscriber attrition for promotional e-mails</td>\n",
       "      <td>0.009</td>\n",
       "      <td>0.0083</td>\n",
       "      <td>0.0076</td>\n",
       "      <td>0.0073</td>\n",
       "      <td>0.0093</td>\n",
       "      <td>0.0064</td>\n",
       "      <td>0.0065</td>\n",
       "      <td>0.006</td>\n",
       "    </tr>\n",
       "    <tr>\n",
       "      <th>1</th>\n",
       "      <td>Average revenue from subscribed customer</td>\n",
       "      <td>0.350</td>\n",
       "      <td>0.3600</td>\n",
       "      <td>0.3500</td>\n",
       "      <td>0.4100</td>\n",
       "      <td>0.3100</td>\n",
       "      <td>0.3300</td>\n",
       "      <td>0.2800</td>\n",
       "      <td>0.340</td>\n",
       "    </tr>\n",
       "    <tr>\n",
       "      <th>2</th>\n",
       "      <td>Average revenue from unsubscribed customer</td>\n",
       "      <td>0.000</td>\n",
       "      <td>0.1900</td>\n",
       "      <td>0.1600</td>\n",
       "      <td>0.1300</td>\n",
       "      <td>0.1300</td>\n",
       "      <td>0.1200</td>\n",
       "      <td>0.1300</td>\n",
       "      <td>0.130</td>\n",
       "    </tr>\n",
       "  </tbody>\n",
       "</table>\n",
       "</div>"
      ],
      "text/plain": [
       "                             2 e-mails per week  Week 1  Week 2  Week 3  \\\n",
       "0  Subscriber attrition for promotional e-mails   0.009  0.0083  0.0076   \n",
       "1      Average revenue from subscribed customer   0.350  0.3600  0.3500   \n",
       "2    Average revenue from unsubscribed customer   0.000  0.1900  0.1600   \n",
       "\n",
       "   Week 4  Week 5  Week 6  Week 7  Week 8  \n",
       "0  0.0073  0.0093  0.0064  0.0065   0.006  \n",
       "1  0.4100  0.3100  0.3300  0.2800   0.340  \n",
       "2  0.1300  0.1300  0.1200  0.1300   0.130  "
      ]
     },
     "execution_count": 26,
     "metadata": {},
     "output_type": "execute_result"
    }
   ],
   "source": [
    "table2 = pd.read_excel('data/pentathlon-II.xls',  skiprows=5, nrows= 3, usecols = \"A:I\")\n",
    "table2"
   ]
  },
  {
   "cell_type": "code",
   "execution_count": 27,
   "metadata": {},
   "outputs": [
    {
     "data": {
      "text/html": [
       "<div>\n",
       "<style scoped>\n",
       "    .dataframe tbody tr th:only-of-type {\n",
       "        vertical-align: middle;\n",
       "    }\n",
       "\n",
       "    .dataframe tbody tr th {\n",
       "        vertical-align: top;\n",
       "    }\n",
       "\n",
       "    .dataframe thead th {\n",
       "        text-align: right;\n",
       "    }\n",
       "</style>\n",
       "<table border=\"1\" class=\"dataframe\">\n",
       "  <thead>\n",
       "    <tr style=\"text-align: right;\">\n",
       "      <th></th>\n",
       "      <th>3 e-mails per week</th>\n",
       "      <th>Week 1</th>\n",
       "      <th>Week 2</th>\n",
       "      <th>Week 3</th>\n",
       "      <th>Week 4</th>\n",
       "      <th>Week 5</th>\n",
       "      <th>Week 6</th>\n",
       "      <th>Week 7</th>\n",
       "      <th>Week 8</th>\n",
       "    </tr>\n",
       "  </thead>\n",
       "  <tbody>\n",
       "    <tr>\n",
       "      <th>0</th>\n",
       "      <td>Subscriber attrition for promotional e-mails</td>\n",
       "      <td>0.0188</td>\n",
       "      <td>0.0208</td>\n",
       "      <td>0.0295</td>\n",
       "      <td>0.028</td>\n",
       "      <td>0.0245</td>\n",
       "      <td>0.022</td>\n",
       "      <td>0.022</td>\n",
       "      <td>0.022</td>\n",
       "    </tr>\n",
       "    <tr>\n",
       "      <th>1</th>\n",
       "      <td>Average revenue from subscribed customer</td>\n",
       "      <td>0.3700</td>\n",
       "      <td>0.3300</td>\n",
       "      <td>0.3600</td>\n",
       "      <td>0.350</td>\n",
       "      <td>0.3300</td>\n",
       "      <td>0.360</td>\n",
       "      <td>0.370</td>\n",
       "      <td>0.360</td>\n",
       "    </tr>\n",
       "    <tr>\n",
       "      <th>2</th>\n",
       "      <td>Average revenue from unsubscribed customer</td>\n",
       "      <td>0.0000</td>\n",
       "      <td>0.2100</td>\n",
       "      <td>0.2000</td>\n",
       "      <td>0.140</td>\n",
       "      <td>0.1700</td>\n",
       "      <td>0.150</td>\n",
       "      <td>0.180</td>\n",
       "      <td>0.150</td>\n",
       "    </tr>\n",
       "  </tbody>\n",
       "</table>\n",
       "</div>"
      ],
      "text/plain": [
       "                             3 e-mails per week  Week 1  Week 2  Week 3  \\\n",
       "0  Subscriber attrition for promotional e-mails  0.0188  0.0208  0.0295   \n",
       "1      Average revenue from subscribed customer  0.3700  0.3300  0.3600   \n",
       "2    Average revenue from unsubscribed customer  0.0000  0.2100  0.2000   \n",
       "\n",
       "   Week 4  Week 5  Week 6  Week 7  Week 8  \n",
       "0   0.028  0.0245   0.022   0.022   0.022  \n",
       "1   0.350  0.3300   0.360   0.370   0.360  \n",
       "2   0.140  0.1700   0.150   0.180   0.150  "
      ]
     },
     "execution_count": 27,
     "metadata": {},
     "output_type": "execute_result"
    }
   ],
   "source": [
    "table3 = pd.read_excel('data/pentathlon-II.xls',  skiprows=10, nrows= 3, usecols = \"A:I\")\n",
    "table3"
   ]
  },
  {
   "cell_type": "code",
   "execution_count": 28,
   "metadata": {},
   "outputs": [
    {
     "data": {
      "text/html": [
       "<div>\n",
       "<style scoped>\n",
       "    .dataframe tbody tr th:only-of-type {\n",
       "        vertical-align: middle;\n",
       "    }\n",
       "\n",
       "    .dataframe tbody tr th {\n",
       "        vertical-align: top;\n",
       "    }\n",
       "\n",
       "    .dataframe thead th {\n",
       "        text-align: right;\n",
       "    }\n",
       "</style>\n",
       "<table border=\"1\" class=\"dataframe\">\n",
       "  <thead>\n",
       "    <tr style=\"text-align: right;\">\n",
       "      <th></th>\n",
       "      <th>4 e-mails per week</th>\n",
       "      <th>Week 1</th>\n",
       "      <th>Week 2</th>\n",
       "      <th>Week 3</th>\n",
       "      <th>Week 4</th>\n",
       "      <th>Week 5</th>\n",
       "      <th>Week 6</th>\n",
       "      <th>Week 7</th>\n",
       "      <th>Week 8</th>\n",
       "    </tr>\n",
       "  </thead>\n",
       "  <tbody>\n",
       "    <tr>\n",
       "      <th>0</th>\n",
       "      <td>Subscriber attrition for promotional e-mails</td>\n",
       "      <td>0.0385</td>\n",
       "      <td>0.0525</td>\n",
       "      <td>0.058</td>\n",
       "      <td>0.0413</td>\n",
       "      <td>0.0398</td>\n",
       "      <td>0.031</td>\n",
       "      <td>0.031</td>\n",
       "      <td>0.031</td>\n",
       "    </tr>\n",
       "    <tr>\n",
       "      <th>1</th>\n",
       "      <td>Average revenue from subscribed customer</td>\n",
       "      <td>0.3600</td>\n",
       "      <td>0.3400</td>\n",
       "      <td>0.300</td>\n",
       "      <td>0.3800</td>\n",
       "      <td>0.3900</td>\n",
       "      <td>0.340</td>\n",
       "      <td>0.360</td>\n",
       "      <td>0.370</td>\n",
       "    </tr>\n",
       "    <tr>\n",
       "      <th>2</th>\n",
       "      <td>Average revenue from unsubscribed customer</td>\n",
       "      <td>0.0000</td>\n",
       "      <td>0.1900</td>\n",
       "      <td>0.160</td>\n",
       "      <td>0.1800</td>\n",
       "      <td>0.1700</td>\n",
       "      <td>0.120</td>\n",
       "      <td>0.120</td>\n",
       "      <td>0.120</td>\n",
       "    </tr>\n",
       "  </tbody>\n",
       "</table>\n",
       "</div>"
      ],
      "text/plain": [
       "                             4 e-mails per week  Week 1  Week 2  Week 3  \\\n",
       "0  Subscriber attrition for promotional e-mails  0.0385  0.0525   0.058   \n",
       "1      Average revenue from subscribed customer  0.3600  0.3400   0.300   \n",
       "2    Average revenue from unsubscribed customer  0.0000  0.1900   0.160   \n",
       "\n",
       "   Week 4  Week 5  Week 6  Week 7  Week 8  \n",
       "0  0.0413  0.0398   0.031   0.031   0.031  \n",
       "1  0.3800  0.3900   0.340   0.360   0.370  \n",
       "2  0.1800  0.1700   0.120   0.120   0.120  "
      ]
     },
     "execution_count": 28,
     "metadata": {},
     "output_type": "execute_result"
    }
   ],
   "source": [
    "table4 = pd.read_excel('data/pentathlon-II.xls',  skiprows=15, nrows= 3, usecols = \"A:I\")\n",
    "table4"
   ]
  },
  {
   "cell_type": "code",
   "execution_count": 29,
   "metadata": {},
   "outputs": [],
   "source": [
    "customers = 10000\n"
   ]
  },
  {
   "cell_type": "code",
   "execution_count": 86,
   "metadata": {},
   "outputs": [
    {
     "data": {
      "text/plain": [
       "[2900.0,\n",
       " 5495.218120805369,\n",
       " 7594.0358823926845,\n",
       " 9463.792499521605,\n",
       " 10880.30804936602,\n",
       " 11943.97357879895,\n",
       " 12866.475886237073,\n",
       " 13667.729882285812]"
      ]
     },
     "execution_count": 86,
     "metadata": {},
     "output_type": "execute_result"
    }
   ],
   "source": [
    "table1.iloc[0,1:].values\n",
    "table1.iloc[1,1:].values\n",
    "table1.iloc[2,1:].values\n",
    "\n",
    "def CLV(subs, sub_rev, unsub_rev, interest_rate = 0.192):\n",
    "\n",
    "    total_rev = 0\n",
    "    total_revs = []\n",
    "    \n",
    "    for idx, val in enumerate(sub_rev):\n",
    "        \n",
    "        subs_rev = (customers*np.prod(1 - subs[0:idx]) * sub_rev[idx])/(1+interest_rate)**idx \n",
    "        \n",
    "        unsubs_rev = ((customers - customers*np.prod(1 - subs[0:idx])) * unsub_rev[idx])/(1+interest_rate)**idx\n",
    "        \n",
    "        #print(\"{:0.2f}\".format(subs_rev), \"{:0.2f}\".format(unsubs_rev))\n",
    "        \n",
    "        total_rev = total_rev + subs_rev + unsubs_rev\n",
    "        total_revs.append(total_rev)\n",
    "    \n",
    "    return total_revs\n",
    "    \n",
    "CLV(table1.iloc[0,1:].values, table1.iloc[1,1:].values, table1.iloc[2,1:].values)"
   ]
  },
  {
   "cell_type": "code",
   "execution_count": 87,
   "metadata": {},
   "outputs": [],
   "source": [
    "one_per_week = CLV(table1.iloc[0,1:].values, table1.iloc[1,1:].values, table1.iloc[2,1:].values)\n",
    "\n",
    "two_per_week = CLV(table2.iloc[0,1:].values, table2.iloc[1,1:].values, table2.iloc[2,1:].values)\n",
    "\n",
    "three_per_week = CLV(table3.iloc[0,1:].values, table3.iloc[1,1:].values, table3.iloc[2,1:].values)\n",
    "\n",
    "four_per_week = CLV(table4.iloc[0,1:].values, table4.iloc[1,1:].values, table4.iloc[2,1:].values)"
   ]
  },
  {
   "cell_type": "code",
   "execution_count": 88,
   "metadata": {},
   "outputs": [
    {
     "name": "stdout",
     "output_type": "stream",
     "text": [
      "74811.53389940751\n",
      "88492.91033044251\n",
      "87482.15840098538\n",
      "84578.53272364775\n"
     ]
    }
   ],
   "source": [
    "print(sum(one_per_week))\n",
    "\n",
    "print(sum(two_per_week))\n",
    "\n",
    "print(sum(three_per_week))\n",
    "\n",
    "print(sum(four_per_week))"
   ]
  },
  {
   "cell_type": "markdown",
   "metadata": {},
   "source": [
    "2. What e-mail frequency should Pentathlon adopt? Motivate your recommendation. (6 points)"
   ]
  },
  {
   "cell_type": "code",
   "execution_count": 89,
   "metadata": {},
   "outputs": [
    {
     "data": {
      "image/png": "[encoded data removed]",
      "text/plain": [
       "<Figure size 432x288 with 1 Axes>"
      ]
     },
     "metadata": {
      "needs_background": "light"
     },
     "output_type": "display_data"
    }
   ],
   "source": [
    "plt.plot(['Week '+str(x) for x in range(1,9)], np.cumsum(one_per_week), color = 'b')\n",
    "plt.plot(['Week '+str(x) for x in range(1,9)], np.cumsum(two_per_week), color = 'r')\n",
    "plt.plot(['Week '+str(x) for x in range(1,9)], np.cumsum(three_per_week), color = 'olive')\n",
    "plt.plot(['Week '+str(x) for x in range(1,9)], np.cumsum(four_per_week), color = 'green')\n",
    "plt.title('CLV across 4 email campaigns')\n",
    "plt.show()"
   ]
  },
  {
   "cell_type": "markdown",
   "metadata": {},
   "source": [
    "3. What e-mail frequency would you recommend if you considered a longer time horizon? Why? Make your argument without formally extending the CLV calculation. (5 points)"
   ]
  },
  {
   "cell_type": "code",
   "execution_count": 90,
   "metadata": {},
   "outputs": [
    {
     "data": {
      "image/png": "[encoded data removed]",
      "text/plain": [
       "<Figure size 432x288 with 1 Axes>"
      ]
     },
     "metadata": {
      "needs_background": "light"
     },
     "output_type": "display_data"
    }
   ],
   "source": [
    "plt.plot(['Week '+str(x) for x in range(1,9)], one_per_week, color = 'b')\n",
    "plt.plot(['Week '+str(x) for x in range(1,9)], two_per_week, color = 'r')\n",
    "plt.plot(['Week '+str(x) for x in range(1,9)], three_per_week, color = 'olive')\n",
    "plt.plot(['Week '+str(x) for x in range(1,9)], four_per_week, color = 'green')\n",
    "plt.title('CLV growth rate across 4 email campaigns')\n",
    "plt.show()"
   ]
  },
  {
   "cell_type": "markdown",
   "metadata": {},
   "source": [
    "4. Calculate the CLV for each of the plans after 104 weeks using the average churn and revenue numbers provided on GitLab. Generate a line plot to compare the five CLV curves.\n",
    "Are your results consistent with your answer to question 3? Why (or why not)? (6 points)"
   ]
  },
  {
   "cell_type": "code",
   "execution_count": 100,
   "metadata": {},
   "outputs": [],
   "source": [
    "Week1_104 = CLV(np.repeat(np.mean(table1.iloc[0,1:].values), 104), np.repeat(np.mean(table1.iloc[1,1:].values), 104),\n",
    "np.repeat(np.mean(table1.iloc[2,1:].values), 104))\n",
    "\n",
    "Week2_104 = CLV(np.repeat(np.mean(table2.iloc[0,1:].values), 104), np.repeat(np.mean(table2.iloc[1,1:].values), 104),\n",
    "np.repeat(np.mean(table2.iloc[2,1:].values), 104))\n",
    "\n",
    "Week3_104 = CLV(np.repeat(np.mean(table3.iloc[0,1:].values), 104), np.repeat(np.mean(table3.iloc[1,1:].values), 104),\n",
    "np.repeat(np.mean(table3.iloc[2,1:].values), 104))\n",
    "\n",
    "Week4_104 = CLV(np.repeat(np.mean(table4.iloc[0,1:].values), 104), np.repeat(np.mean(table4.iloc[1,1:].values), 104),\n",
    "np.repeat(np.mean(table4.iloc[2,1:].values), 104))"
   ]
  },
  {
   "cell_type": "code",
   "execution_count": 105,
   "metadata": {},
   "outputs": [
    {
     "data": {
      "image/png": "[encoded data removed]",
      "text/plain": [
       "<Figure size 1440x720 with 1 Axes>"
      ]
     },
     "metadata": {
      "needs_background": "light"
     },
     "output_type": "display_data"
    }
   ],
   "source": [
    "plt.figure(figsize=(20,10))\n",
    "\n",
    "plt.plot(['W '+str(x) for x in range(1,105)], Week1_104, color = 'b')\n",
    "plt.plot(['W '+str(x) for x in range(1,105)], Week2_104, color = 'r')\n",
    "plt.plot(['W '+str(x) for x in range(1,105)], Week3_104, color = 'olive')\n",
    "plt.plot(['W '+str(x) for x in range(1,105)], Week4_104, color = 'green')\n",
    "plt.title('CLV growth rate across 4 email campaigns')\n",
    "plt.xticks(rotation=90)\n",
    "plt.show()"
   ]
  },
  {
   "cell_type": "code",
   "execution_count": 102,
   "metadata": {},
   "outputs": [
    {
     "name": "stdout",
     "output_type": "stream",
     "text": [
      "1751087.2390661296\n",
      "2045573.942737881\n",
      "2041262.0025644994\n",
      "1952471.3774145069\n"
     ]
    }
   ],
   "source": [
    "print(sum(Week1_104))\n",
    "\n",
    "print(sum(Week2_104))\n",
    "\n",
    "print(sum(Week3_104))\n",
    "\n",
    "print(sum(Week4_104))"
   ]
  },
  {
   "cell_type": "code",
   "execution_count": null,
   "metadata": {},
   "outputs": [],
   "source": []
  },
  {
   "cell_type": "code",
   "execution_count": null,
   "metadata": {},
   "outputs": [],
   "source": []
  }
 ],
 "metadata": {
  "kernelspec": {
   "display_name": "Python 3",
   "language": "python",
   "name": "python3"
  },
  "language_info": {
   "codemirror_mode": {
    "name": "ipython",
    "version": 3
   },
   "file_extension": ".py",
   "mimetype": "text/x-python",
   "name": "python",
   "nbconvert_exporter": "python",
   "pygments_lexer": "ipython3",
   "version": "3.7.9"
  },
  "toc": {
   "base_numbering": 1,
   "nav_menu": {},
   "number_sections": true,
   "sideBar": true,
   "skip_h1_title": false,
   "title_cell": "Table of Contents",
   "title_sidebar": "Contents",
   "toc_cell": false,
   "toc_position": {},
   "toc_section_display": true,
   "toc_window_display": false
  }
 },
 "nbformat": 4,
 "nbformat_minor": 4
}
